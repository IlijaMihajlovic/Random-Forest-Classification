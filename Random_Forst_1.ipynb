{
 "cells": [
  {
   "cell_type": "code",
   "execution_count": null,
   "id": "178c6534",
   "metadata": {},
   "outputs": [],
   "source": [
    "# Third-Party Imports\n",
    "import pandas as pd\n",
    "import numpy as np\n",
    "import matplotlib.pyplot as plt\n",
    "import seaborn as sns\n",
    "import sklearn\n",
    "\n",
    "# Tools for splitting data into train/test sets and performing hyperparameter optimization\n",
    "from sklearn.model_selection import train_test_split, GridSearchCV, RandomizedSearchCV, KFold\n",
    "\n",
    "# LabelEncoder: converts categorical labels into numbers; StandardScaler: normalizes data\n",
    "from sklearn.preprocessing import LabelEncoder, StandardScaler\n",
    "\n",
    "# Metrics for evaluating model performance\n",
    "from sklearn.metrics import accuracy_score, classification_report, confusion_matrix\n",
    "\n",
    "\n",
    "from sklearn.ensemble import RandomForestClassifier\n",
    "\n"
   ]
  },
  {
   "cell_type": "code",
   "execution_count": null,
   "id": "2715a5cd",
   "metadata": {},
   "outputs": [],
   "source": [
    "# Load data\n",
    "file_path = 'spotify_tracks.csv'\n",
    "spotify_tracks = pd.read_csv(file_path)"
   ]
  },
  {
   "cell_type": "code",
   "execution_count": null,
   "id": "12191e83",
   "metadata": {},
   "outputs": [],
   "source": [
    "# Display basic info about the dataset\n",
    "print(spotify_tracks.info())\n",
    "print(spotify_tracks.isnull().sum())"
   ]
  },
  {
   "cell_type": "code",
   "execution_count": null,
   "id": "f571274d",
   "metadata": {},
   "outputs": [],
   "source": [
    "# Display the first few rows of the dataset\n",
    "spotify_tracks['track_genre'].value_counts()"
   ]
  },
  {
   "cell_type": "code",
   "execution_count": null,
   "id": "e3422a9e",
   "metadata": {},
   "outputs": [],
   "source": [
    "# Filter dataset to include only selected genres\n",
    "selected_genres = ['pop', 'country', 'hip-hop', 'punk_rock', 'latin', 'edm']\n",
    "spotify_tracks = spotify_tracks[spotify_tracks['track_genre'].isin(selected_genres)]"
   ]
  },
  {
   "cell_type": "code",
   "execution_count": null,
   "id": "c99619b9",
   "metadata": {},
   "outputs": [],
   "source": [
    "# Drop unnecessary columns\n",
    "columns_to_drop = ['Unnamed: 0', 'track_id', 'track_name', 'artists', 'album_name', 'time_signature']\n",
    "spotify_tracks.drop(columns=columns_to_drop, axis=1, inplace=True)"
   ]
  },
  {
   "cell_type": "code",
   "execution_count": null,
   "id": "d4e2e4fc",
   "metadata": {},
   "outputs": [],
   "source": [
    "# Handle missing values\n",
    "print(\"Missing values before dropping:\", spotify_tracks.isnull().sum())\n",
    "spotify_tracks.dropna(inplace=True)\n",
    "print(\"Missing values after dropping:\", spotify_tracks.isnull().sum())"
   ]
  },
  {
   "cell_type": "code",
   "execution_count": null,
   "id": "33b129df",
   "metadata": {},
   "outputs": [],
   "source": [
    "# Separate features and target\n",
    "features = spotify_tracks.drop(columns=['track_genre'])\n",
    "target = spotify_tracks['track_genre']"
   ]
  },
  {
   "cell_type": "code",
   "execution_count": null,
   "id": "f2590fb6",
   "metadata": {},
   "outputs": [],
   "source": [
    "# Split data into train, validation, and test sets\n",
    "X_train, X_test, y_train, y_test = train_test_split(features, target, test_size=0.2, random_state=42)\n",
    "X_train, X_val, y_train, y_val = train_test_split(X_train, y_train, test_size=0.25, random_state=42)"
   ]
  },
  {
   "cell_type": "code",
   "execution_count": null,
   "id": "dc3f1b6c",
   "metadata": {},
   "outputs": [],
   "source": [
    "# Initialize LabelEncoder to convert genre labels to numbers\n",
    "label_encoder = LabelEncoder()\n",
    "\n",
    "# Fit the label encoder on the training labels and transform all sets\n",
    "y_train = label_encoder.fit_transform(y_train)\n",
    "y_val = label_encoder.transform(y_val)\n",
    "y_test = label_encoder.transform(y_test)"
   ]
  },
  {
   "cell_type": "code",
   "execution_count": null,
   "id": "f5c057d2",
   "metadata": {},
   "outputs": [],
   "source": [
    "# Initialize StandardScaler to normalize the feature data\n",
    "scaler = StandardScaler()\n",
    "\n",
    "# Fit the scaler on the training data and transform all sets\n",
    "X_train = scaler.fit_transform(X_train)\n",
    "X_val = scaler.transform(X_val)\n",
    "X_test = scaler.transform(X_test)"
   ]
  },
  {
   "cell_type": "code",
   "execution_count": null,
   "id": "9f98a11e",
   "metadata": {},
   "outputs": [],
   "source": [
    "# Initialize the Random Forest Classifier with a fixed random state for reproducibility\n",
    "rf_model = RandomForestClassifier(random_state=42)\n",
    "\n",
    "rf_model.fit(X_train, y_train)\n",
    "y_pred = rf_model.predict(X_val)\n",
    "\n",
    "# Confusion Matrix\n",
    "cm = confusion_matrix(y_test, y_pred)\n",
    "plt.figure(figsize=(6, 4))\n",
    "sns.heatmap(cm, annot=True, fmt='d', cmap='Blues')\n",
    "plt.title(\"Confusion Matrix\")\n",
    "plt.xlabel(\"Predicted\")\n",
    "plt.ylabel(\"Actual\")\n",
    "plt.show()\n",
    "\n",
    "# Classification Report\n",
    "report = classification_report(y_test, y_pred, output_dict=True)\n",
    "report_df = pd.DataFrame(report).transpose()\n",
    "\n",
    "plt.figure(figsize=(8, 4))\n",
    "sns.heatmap(report_df.iloc[:-1, :-1], annot=True, cmap='YlGnBu')\n",
    "plt.title(\"Classification Report\")\n",
    "plt.show()\n",
    "\n",
    "\n",
    "test_accuracy = accuracy_score(y_val, y_pred)\n",
    "print(f'Test Accuracy: {test_accuracy:.4f}')\n",
    "print('\\nClassification Report: \\n', classification_report(y_val, y_pred))\n",
    "print('\\nConfusion Matrix: \\n', confusion_matrix(y_val, y_pred))\n"
   ]
  },
  {
   "cell_type": "code",
   "execution_count": null,
   "id": "35bada56",
   "metadata": {},
   "outputs": [],
   "source": [
    "# Hyperparameter tuning using GridSearchCV\n",
    "param_grid = {\n",
    "    'n_estimators': [10, 100, 200, 300], # Number of trees in the forest\n",
    "    'max_depth': [3, 5, 10, 20, None],\n",
    "    'max_features':['sqrt', 'log2', None], # Number of features to consider at each split\n",
    "    'min_samples_leaf': [1, 2, 4],\n",
    "    'bootstrap': [True, False]\n",
    "}\n",
    "\n",
    "rf_model = RandomForestClassifier(random_state=42)\n",
    "\n",
    "# Perform grid search with cross-validation\n",
    "grid_search = GridSearchCV(rf_model, param_grid, cv=10, scoring='accuracy', n_jobs=-1, verbose=2)\n",
    "grid_search.fit(X_train, y_train)\n",
    "\n",
    "best_rf = grid_search.best_estimator_\n",
    "\n",
    "print('Best parameters:', grid_search.best_params_)\n",
    "print('Best score:', grid_search.best_score_)\n",
    "\n"
   ]
  },
  {
   "cell_type": "code",
   "execution_count": null,
   "id": "18bb34cb",
   "metadata": {},
   "outputs": [],
   "source": [
    "feature_importance = best_rf.feature_importances_ # Get feature importances from the best model\n",
    "feature_names = X.columns # Get the names of the features (columns) from the dataset used for training"
   ]
  },
  {
   "cell_type": "code",
   "execution_count": null,
   "id": "90f170ea",
   "metadata": {},
   "outputs": [],
   "source": [
    "#Sort and plot the feature importances\n",
    "sorted_indices = np.argsort(feature_importance)[::-1]\n",
    "plt.figure(figsize=(10, 5))\n",
    "plt.bar(range(len(feature_importance)), feature_importance[sorted_indices], align='center')\n",
    "plt.xticks(range(len(feature_importance)), np.array(feature_names)[sorted_indices], rotation=90)\n",
    "plt.title('Random Forest Feature Importance for Music Tracks')\n",
    "plt.show()\n"
   ]
  }
 ],
 "metadata": {
  "kernelspec": {
   "display_name": ".venv",
   "language": "python",
   "name": "python3"
  },
  "language_info": {
   "codemirror_mode": {
    "name": "ipython",
    "version": 3
   },
   "file_extension": ".py",
   "mimetype": "text/x-python",
   "name": "python",
   "nbconvert_exporter": "python",
   "pygments_lexer": "ipython3",
   "version": "3.13.3"
  }
 },
 "nbformat": 4,
 "nbformat_minor": 5
}
